{
 "cells": [
  {
   "cell_type": "markdown",
   "metadata": {},
   "source": [
    "# Tests MLflow pour générer quelques runs en autologs\n",
    "\n",
    "> https://parivision.heuzef.com:5000"
   ]
  },
  {
   "cell_type": "code",
   "execution_count": 172,
   "metadata": {},
   "outputs": [],
   "source": [
    "# Imports librairies et secrets\n",
    "import mlflow\n",
    "from mlflow import MlflowClient\n",
    "from mlflow.server import get_app_client\n",
    "from mlflow.exceptions import MlflowException\n",
    "import requests\n",
    "import setuptools\n",
    "import os\n",
    "from dotenv import load_dotenv\n",
    "load_dotenv(\"../.env\")\n",
    "username = os.getenv('MLFLOW_TRACKING_USERNAME')\n",
    "password = os.getenv('MLFLOW_TRACKING_PASSWORD')\n",
    "from sklearn.ensemble import RandomForestRegressor\n",
    "from sklearn.model_selection import train_test_split\n",
    "from sklearn.metrics import mean_absolute_error, mean_squared_error, r2_score\n",
    "import pandas as pd\n",
    "import numpy as np"
   ]
  },
  {
   "cell_type": "code",
   "execution_count": 2,
   "metadata": {},
   "outputs": [
    {
     "name": "stdout",
     "output_type": "stream",
     "text": [
      "Utilisateur : parivision\n",
      "Est admin : True\n",
      "Le serveur de tracking MLflow est disponible ! Youpi !  http://parivision.heuzef.com:5000\n",
      "Message : <!doctype html><html lang=\"en\"><head><meta charset=\"utf-8\"/><meta name=\"viewport\" content=\"width=device-width,initial-scale=1,shrink-to-fit=no\"/><link rel=\"shortcut icon\" href=\"./static-files/favicon.ico\"/><meta name=\"theme-color\" content=\"#000000\"/><link rel=\"manifest\" href=\"./static-files/manifest.json\" crossorigin=\"use-credentials\"/><title>MLflow</title><script defer=\"defer\" src=\"static-files/static/js/main.366ca744.js\"></script><link href=\"static-files/static/css/main.17c4184f.css\" rel=\"stylesheet\"></head><body><noscript>You need to enable JavaScript to run this app.</noscript><div id=\"root\"></div><div id=\"modal\"></div></body></html>\n"
     ]
    }
   ],
   "source": [
    "# Connexion au serveur\n",
    "mlflow_uri = \"http://parivision.heuzef.com:5000\" # L'adresse du serveur MLFlow'\n",
    "client = get_app_client(\"basic-auth\", tracking_uri=mlflow_uri)\n",
    "\n",
    "print(f\"Utilisateur : {client.get_user(\"parivision\").username}\")\n",
    "print(f\"Est admin : {client.get_user(\"parivision\").is_admin}\")\n",
    "\n",
    "mlflow.set_tracking_uri(mlflow_uri)\n",
    "\n",
    "# Tester la dispo\n",
    "response = requests.get(\n",
    "    f\"{mlflow_uri}/\",\n",
    "    auth=(username, password)\n",
    ")\n",
    "\n",
    "if response.status_code == 200:\n",
    "    print(\"Le serveur de tracking MLflow est disponible ! Youpi ! \", mlflow_uri)\n",
    "    print(\"Message :\", response.text)\n",
    "else:\n",
    "    print(f\"Échec de la connexion. Code d'erreur : {response.status_code}\")\n",
    "    print(\"Message :\", response.text)"
   ]
  },
  {
   "cell_type": "code",
   "execution_count": 3,
   "metadata": {},
   "outputs": [
    {
     "data": {
      "text/plain": [
       "<Experiment: artifact_location='mlflow-artifacts:/155739054227684976', creation_time=1741858116895, experiment_id='155739054227684976', last_update_time=1741858116895, lifecycle_stage='active', name='test', tags={}>"
      ]
     },
     "execution_count": 3,
     "metadata": {},
     "output_type": "execute_result"
    }
   ],
   "source": [
    "# Créer une experience test\n",
    "mlflow.set_experiment(\"test\")"
   ]
  },
  {
   "cell_type": "code",
   "execution_count": 5,
   "metadata": {},
   "outputs": [
    {
     "name": "stdout",
     "output_type": "stream",
     "text": [
      "Clonage dans 'MLflow_Course'...\n",
      "remote: Enumerating objects: 66, done.\u001b[K\n",
      "remote: Counting objects: 100% (65/65), done.\u001b[K\n",
      "remote: Compressing objects: 100% (39/39), done.\u001b[K\n",
      "remote: Total 66 (delta 25), reused 54 (delta 21), pack-reused 1 (from 1)\u001b[K\n",
      "Réception d'objets: 100% (66/66), 67.28 Kio | 3.06 Mio/s, fait.\n",
      "Résolution des deltas: 100% (25/25), fait.\n"
     ]
    }
   ],
   "source": [
    "# Récupération d'un projet\n",
    "!git clone https://github.com/DataScientest/MLflow_Course.git"
   ]
  },
  {
   "cell_type": "code",
   "execution_count": 10,
   "metadata": {},
   "outputs": [
    {
     "data": {
      "text/plain": [
       "(800, 7)"
      ]
     },
     "metadata": {},
     "output_type": "display_data"
    },
    {
     "data": {
      "text/plain": [
       "(200, 7)"
      ]
     },
     "metadata": {},
     "output_type": "display_data"
    },
    {
     "data": {
      "text/plain": [
       "(800,)"
      ]
     },
     "metadata": {},
     "output_type": "display_data"
    },
    {
     "data": {
      "text/plain": [
       "(200,)"
      ]
     },
     "metadata": {},
     "output_type": "display_data"
    }
   ],
   "source": [
    "# Import Database\n",
    "data = pd.read_csv(\"MLflow_Course/data/fake_data.csv\")\n",
    "X = data.drop(columns=[\"date\", \"demand\"])\n",
    "X = X.astype('float')\n",
    "y = data[\"demand\"]\n",
    "X_train, X_val, y_train, y_val = train_test_split(\n",
    "    X, y, test_size=0.2, random_state=42\n",
    ")\n",
    "\n",
    "display(X_train.shape)\n",
    "display(X_val.shape)\n",
    "display(y_train.shape)\n",
    "display(y_val.shape)"
   ]
  },
  {
   "cell_type": "markdown",
   "metadata": {},
   "source": [
    "# Entrainement d'un modèle et envois des métriques en Autolog"
   ]
  },
  {
   "cell_type": "code",
   "execution_count": 211,
   "metadata": {},
   "outputs": [
    {
     "name": "stderr",
     "output_type": "stream",
     "text": [
      "2025/03/13 13:56:17 WARNING mlflow.utils.autologging_utils: MLflow sklearn autologging is known to be compatible with 0.24.1 <= scikit-learn <= 1.5.2, but the installed version is 1.6.1. If you encounter errors during autologging, try upgrading / downgrading scikit-learn to a compatible version, or try upgrading MLflow.\n",
      "2025/03/13 13:56:18 INFO mlflow.tracking.fluent: Autologging successfully enabled for sklearn.\n"
     ]
    },
    {
     "name": "stdout",
     "output_type": "stream",
     "text": [
      "🏃 View run welcoming-shad-86 at: http://parivision.heuzef.com:5000/#/experiments/155739054227684976/runs/1c1e2282cb0746958f43ffb597288168\n",
      "🧪 View experiment at: http://parivision.heuzef.com:5000/#/experiments/155739054227684976\n",
      "🏃 View run angry-ray-885 at: http://parivision.heuzef.com:5000/#/experiments/155739054227684976/runs/0354119511b245b0a8a591618664e55a\n",
      "🧪 View experiment at: http://parivision.heuzef.com:5000/#/experiments/155739054227684976\n",
      "🏃 View run bold-yak-281 at: http://parivision.heuzef.com:5000/#/experiments/155739054227684976/runs/37196b0daa58457287619b331320df05\n",
      "🧪 View experiment at: http://parivision.heuzef.com:5000/#/experiments/155739054227684976\n",
      "🏃 View run awesome-eel-358 at: http://parivision.heuzef.com:5000/#/experiments/155739054227684976/runs/16bf7877389b4032a1b99151c58fa6eb\n",
      "🧪 View experiment at: http://parivision.heuzef.com:5000/#/experiments/155739054227684976\n",
      "🏃 View run clumsy-stork-445 at: http://parivision.heuzef.com:5000/#/experiments/155739054227684976/runs/7b5103f47ca142088a677a555443586d\n",
      "🧪 View experiment at: http://parivision.heuzef.com:5000/#/experiments/155739054227684976\n",
      "🏃 View run silent-seal-222 at: http://parivision.heuzef.com:5000/#/experiments/155739054227684976/runs/bdd7a61b71b44217b456b3859656dd28\n",
      "🧪 View experiment at: http://parivision.heuzef.com:5000/#/experiments/155739054227684976\n",
      "🏃 View run languid-roo-901 at: http://parivision.heuzef.com:5000/#/experiments/155739054227684976/runs/270c80543d094fd7875e2bdb386a537e\n",
      "🧪 View experiment at: http://parivision.heuzef.com:5000/#/experiments/155739054227684976\n",
      "🏃 View run indecisive-midge-11 at: http://parivision.heuzef.com:5000/#/experiments/155739054227684976/runs/1f996ec676bf48e789969fa5c9b078e9\n",
      "🧪 View experiment at: http://parivision.heuzef.com:5000/#/experiments/155739054227684976\n",
      "🏃 View run skittish-asp-125 at: http://parivision.heuzef.com:5000/#/experiments/155739054227684976/runs/84d49be5342c46bb898534e9a1d0c682\n",
      "🧪 View experiment at: http://parivision.heuzef.com:5000/#/experiments/155739054227684976\n",
      "🏃 View run zealous-trout-269 at: http://parivision.heuzef.com:5000/#/experiments/155739054227684976/runs/66eeffba74fc48b484066ed389521b14\n",
      "🧪 View experiment at: http://parivision.heuzef.com:5000/#/experiments/155739054227684976\n"
     ]
    }
   ],
   "source": [
    "mlflow.autolog()\n",
    "\n",
    "for i in range(10): # Boucle pour exécuter 10 fois\n",
    "    with mlflow.start_run():\n",
    "        params = {\n",
    "        \"n_estimators\": np.random.randint(1, 100),\n",
    "        \"max_depth\": np.random.randint(1, 100),\n",
    "        \"random_state\": np.random.randint(1, 100),\n",
    "        }\n",
    "        \n",
    "        rf = RandomForestRegressor(**params)\n",
    "        rf.fit(X_train, y_train)\n",
    "\n",
    "        # Evaluate model\n",
    "        y_pred = rf.predict(X_val)\n",
    "        mae = mean_absolute_error(y_val, y_pred)\n",
    "        mse = mean_squared_error(y_val, y_pred)\n",
    "        rmse = np.sqrt(mse)\n",
    "        r2 = r2_score(y_val, y_pred)\n",
    "        metrics = {\"mae\": mae, \"mse\": mse, \"rmse\": rmse, \"r2\": r2}"
   ]
  },
  {
   "cell_type": "code",
   "execution_count": 212,
   "metadata": {},
   "outputs": [
    {
     "data": {
      "text/html": [
       "<div>\n",
       "<style scoped>\n",
       "    .dataframe tbody tr th:only-of-type {\n",
       "        vertical-align: middle;\n",
       "    }\n",
       "\n",
       "    .dataframe tbody tr th {\n",
       "        vertical-align: top;\n",
       "    }\n",
       "\n",
       "    .dataframe thead th {\n",
       "        text-align: right;\n",
       "    }\n",
       "</style>\n",
       "<table border=\"1\" class=\"dataframe\">\n",
       "  <thead>\n",
       "    <tr style=\"text-align: right;\">\n",
       "      <th></th>\n",
       "      <th>run_id</th>\n",
       "      <th>experiment_id</th>\n",
       "      <th>status</th>\n",
       "      <th>artifact_uri</th>\n",
       "      <th>start_time</th>\n",
       "      <th>end_time</th>\n",
       "      <th>metrics.training_mean_absolute_error</th>\n",
       "      <th>metrics.training_mean_squared_error</th>\n",
       "      <th>metrics.training_r2_score</th>\n",
       "      <th>metrics.training_score</th>\n",
       "      <th>...</th>\n",
       "      <th>params.criterion</th>\n",
       "      <th>params.n_estimators</th>\n",
       "      <th>params.random_state</th>\n",
       "      <th>tags.mlflow.log-model.history</th>\n",
       "      <th>tags.mlflow.source.name</th>\n",
       "      <th>tags.mlflow.source.type</th>\n",
       "      <th>tags.estimator_class</th>\n",
       "      <th>tags.estimator_name</th>\n",
       "      <th>tags.mlflow.runName</th>\n",
       "      <th>tags.mlflow.user</th>\n",
       "    </tr>\n",
       "  </thead>\n",
       "  <tbody>\n",
       "    <tr>\n",
       "      <th>0</th>\n",
       "      <td>1434f6c19b974e7f926d6ba71b4a5ea8</td>\n",
       "      <td>155739054227684976</td>\n",
       "      <td>FINISHED</td>\n",
       "      <td>mlflow-artifacts:/155739054227684976/1434f6c19...</td>\n",
       "      <td>2025-03-13 09:45:34.545000+00:00</td>\n",
       "      <td>2025-03-13 09:45:41.585000+00:00</td>\n",
       "      <td>20.736414</td>\n",
       "      <td>749.241954</td>\n",
       "      <td>0.978088</td>\n",
       "      <td>0.978088</td>\n",
       "      <td>...</td>\n",
       "      <td>squared_error</td>\n",
       "      <td>14</td>\n",
       "      <td>18</td>\n",
       "      <td>[{\"run_id\": \"1434f6c19b974e7f926d6ba71b4a5ea8\"...</td>\n",
       "      <td>/home/heuzef/GIT/DEC24_MLOPS_PARIS_SPORTIFS/.v...</td>\n",
       "      <td>LOCAL</td>\n",
       "      <td>sklearn.ensemble._forest.RandomForestRegressor</td>\n",
       "      <td>RandomForestRegressor</td>\n",
       "      <td>bold-squirrel-452</td>\n",
       "      <td>parivision</td>\n",
       "    </tr>\n",
       "    <tr>\n",
       "      <th>1</th>\n",
       "      <td>186f36b4a44940128d31140ed484ac14</td>\n",
       "      <td>155739054227684976</td>\n",
       "      <td>FINISHED</td>\n",
       "      <td>mlflow-artifacts:/155739054227684976/186f36b4a...</td>\n",
       "      <td>2025-03-13 09:49:04.237000+00:00</td>\n",
       "      <td>2025-03-13 09:49:10.640000+00:00</td>\n",
       "      <td>19.061543</td>\n",
       "      <td>587.218585</td>\n",
       "      <td>0.982826</td>\n",
       "      <td>0.982826</td>\n",
       "      <td>...</td>\n",
       "      <td>squared_error</td>\n",
       "      <td>55</td>\n",
       "      <td>77</td>\n",
       "      <td>[{\"run_id\": \"186f36b4a44940128d31140ed484ac14\"...</td>\n",
       "      <td>/home/heuzef/GIT/DEC24_MLOPS_PARIS_SPORTIFS/.v...</td>\n",
       "      <td>LOCAL</td>\n",
       "      <td>sklearn.ensemble._forest.RandomForestRegressor</td>\n",
       "      <td>RandomForestRegressor</td>\n",
       "      <td>wise-ant-503</td>\n",
       "      <td>parivision</td>\n",
       "    </tr>\n",
       "    <tr>\n",
       "      <th>2</th>\n",
       "      <td>12a8e751057547f089c3be9e16147d70</td>\n",
       "      <td>155739054227684976</td>\n",
       "      <td>FINISHED</td>\n",
       "      <td>mlflow-artifacts:/155739054227684976/12a8e7510...</td>\n",
       "      <td>2025-03-13 09:49:11.193000+00:00</td>\n",
       "      <td>2025-03-13 09:49:17.632000+00:00</td>\n",
       "      <td>25.516734</td>\n",
       "      <td>1011.288151</td>\n",
       "      <td>0.970424</td>\n",
       "      <td>0.970424</td>\n",
       "      <td>...</td>\n",
       "      <td>squared_error</td>\n",
       "      <td>71</td>\n",
       "      <td>92</td>\n",
       "      <td>[{\"run_id\": \"12a8e751057547f089c3be9e16147d70\"...</td>\n",
       "      <td>/home/heuzef/GIT/DEC24_MLOPS_PARIS_SPORTIFS/.v...</td>\n",
       "      <td>LOCAL</td>\n",
       "      <td>sklearn.ensemble._forest.RandomForestRegressor</td>\n",
       "      <td>RandomForestRegressor</td>\n",
       "      <td>sneaky-fish-708</td>\n",
       "      <td>parivision</td>\n",
       "    </tr>\n",
       "  </tbody>\n",
       "</table>\n",
       "<p>3 rows × 39 columns</p>\n",
       "</div>"
      ],
      "text/plain": [
       "                             run_id       experiment_id    status  \\\n",
       "0  1434f6c19b974e7f926d6ba71b4a5ea8  155739054227684976  FINISHED   \n",
       "1  186f36b4a44940128d31140ed484ac14  155739054227684976  FINISHED   \n",
       "2  12a8e751057547f089c3be9e16147d70  155739054227684976  FINISHED   \n",
       "\n",
       "                                        artifact_uri  \\\n",
       "0  mlflow-artifacts:/155739054227684976/1434f6c19...   \n",
       "1  mlflow-artifacts:/155739054227684976/186f36b4a...   \n",
       "2  mlflow-artifacts:/155739054227684976/12a8e7510...   \n",
       "\n",
       "                        start_time                         end_time  \\\n",
       "0 2025-03-13 09:45:34.545000+00:00 2025-03-13 09:45:41.585000+00:00   \n",
       "1 2025-03-13 09:49:04.237000+00:00 2025-03-13 09:49:10.640000+00:00   \n",
       "2 2025-03-13 09:49:11.193000+00:00 2025-03-13 09:49:17.632000+00:00   \n",
       "\n",
       "   metrics.training_mean_absolute_error  metrics.training_mean_squared_error  \\\n",
       "0                             20.736414                           749.241954   \n",
       "1                             19.061543                           587.218585   \n",
       "2                             25.516734                          1011.288151   \n",
       "\n",
       "   metrics.training_r2_score  metrics.training_score  ...  params.criterion  \\\n",
       "0                   0.978088                0.978088  ...     squared_error   \n",
       "1                   0.982826                0.982826  ...     squared_error   \n",
       "2                   0.970424                0.970424  ...     squared_error   \n",
       "\n",
       "   params.n_estimators  params.random_state  \\\n",
       "0                   14                   18   \n",
       "1                   55                   77   \n",
       "2                   71                   92   \n",
       "\n",
       "                       tags.mlflow.log-model.history  \\\n",
       "0  [{\"run_id\": \"1434f6c19b974e7f926d6ba71b4a5ea8\"...   \n",
       "1  [{\"run_id\": \"186f36b4a44940128d31140ed484ac14\"...   \n",
       "2  [{\"run_id\": \"12a8e751057547f089c3be9e16147d70\"...   \n",
       "\n",
       "                             tags.mlflow.source.name tags.mlflow.source.type  \\\n",
       "0  /home/heuzef/GIT/DEC24_MLOPS_PARIS_SPORTIFS/.v...                   LOCAL   \n",
       "1  /home/heuzef/GIT/DEC24_MLOPS_PARIS_SPORTIFS/.v...                   LOCAL   \n",
       "2  /home/heuzef/GIT/DEC24_MLOPS_PARIS_SPORTIFS/.v...                   LOCAL   \n",
       "\n",
       "                             tags.estimator_class    tags.estimator_name  \\\n",
       "0  sklearn.ensemble._forest.RandomForestRegressor  RandomForestRegressor   \n",
       "1  sklearn.ensemble._forest.RandomForestRegressor  RandomForestRegressor   \n",
       "2  sklearn.ensemble._forest.RandomForestRegressor  RandomForestRegressor   \n",
       "\n",
       "  tags.mlflow.runName tags.mlflow.user  \n",
       "0   bold-squirrel-452       parivision  \n",
       "1        wise-ant-503       parivision  \n",
       "2     sneaky-fish-708       parivision  \n",
       "\n",
       "[3 rows x 39 columns]"
      ]
     },
     "metadata": {},
     "output_type": "display_data"
    },
    {
     "name": "stdout",
     "output_type": "stream",
     "text": [
      "Nombre total de run :  31\n"
     ]
    }
   ],
   "source": [
    "# Récupérer les runs MLFlow dans un dataframe\n",
    "runs = mlflow.search_runs(experiment_names=[\"test\"], order_by=[\"start_time ASC\"])\n",
    "display(runs.head(3))\n",
    "\n",
    "# Supprimer les runs échoués\n",
    "runs = runs[runs['status'] == 'FINISHED']\n",
    "\n",
    "print(\"Nombre total de run : \", len(runs))"
   ]
  },
  {
   "cell_type": "code",
   "execution_count": 215,
   "metadata": {},
   "outputs": [
    {
     "data": {
      "text/plain": [
       "run_id                                                       b60f1e7648c44497bb86d7587514b000\n",
       "experiment_id                                                              155739054227684976\n",
       "status                                                                               FINISHED\n",
       "artifact_uri                                mlflow-artifacts:/155739054227684976/b60f1e764...\n",
       "start_time                                                   2025-03-13 10:20:43.991000+00:00\n",
       "end_time                                                     2025-03-13 10:20:50.408000+00:00\n",
       "metrics.training_mean_absolute_error                                                18.741581\n",
       "metrics.training_mean_squared_error                                                551.169059\n",
       "metrics.training_r2_score                                                            0.983881\n",
       "metrics.training_score                                                               0.983881\n",
       "metrics.training_root_mean_squared_error                                             23.47699\n",
       "metrics.mean_absolute_error_X_val                                                         NaN\n",
       "metrics.mean_squared_error_X_val                                                          NaN\n",
       "metrics.r2_score_X_val                                                                    NaN\n",
       "params.ccp_alpha                                                                          0.0\n",
       "params.min_samples_leaf                                                                     1\n",
       "params.max_features                                                                       1.0\n",
       "params.min_samples_split                                                                    2\n",
       "params.min_impurity_decrease                                                              0.0\n",
       "params.max_samples                                                                       None\n",
       "params.verbose                                                                              0\n",
       "params.oob_score                                                                        False\n",
       "params.warm_start                                                                       False\n",
       "params.max_depth                                                                           71\n",
       "params.max_leaf_nodes                                                                    None\n",
       "params.min_weight_fraction_leaf                                                           0.0\n",
       "params.bootstrap                                                                         True\n",
       "params.monotonic_cst                                                                     None\n",
       "params.n_jobs                                                                            None\n",
       "params.criterion                                                                squared_error\n",
       "params.n_estimators                                                                        48\n",
       "params.random_state                                                                        60\n",
       "tags.mlflow.log-model.history               [{\"run_id\": \"b60f1e7648c44497bb86d7587514b000\"...\n",
       "tags.mlflow.source.name                     /home/heuzef/GIT/DEC24_MLOPS_PARIS_SPORTIFS/.v...\n",
       "tags.mlflow.source.type                                                                 LOCAL\n",
       "tags.estimator_class                           sklearn.ensemble._forest.RandomForestRegressor\n",
       "tags.estimator_name                                                     RandomForestRegressor\n",
       "tags.mlflow.runName                                                           lyrical-hen-549\n",
       "tags.mlflow.user                                                                   parivision\n",
       "Name: 17, dtype: object"
      ]
     },
     "metadata": {},
     "output_type": "display_data"
    }
   ],
   "source": [
    "# Récupérer la run champion, filtré sur la variable training_score maximal\n",
    "run_champion = runs.loc[runs['metrics.training_score'].idxmax()]\n",
    "display(run_champion)"
   ]
  },
  {
   "cell_type": "code",
   "execution_count": null,
   "metadata": {},
   "outputs": [
    {
     "name": "stdout",
     "output_type": "stream",
     "text": [
      "NOUVEAU CHAMPION !\n",
      "lyrical-hen-549\n",
      "---------------------------------\n",
      "Création d'une nouvelle version\n"
     ]
    },
    {
     "name": "stderr",
     "output_type": "stream",
     "text": [
      "Registered model 'test' already exists. Creating a new version of this model...\n",
      "2025/03/13 14:07:05 INFO mlflow.store.model_registry.abstract_store: Waiting up to 300 seconds for model version to finish creation. Model name: test, version 2\n",
      "Created version '2' of model 'test'.\n"
     ]
    },
    {
     "name": "stdout",
     "output_type": "stream",
     "text": [
      "---------------------------------\n"
     ]
    }
   ],
   "source": [
    "def register_model_champion(mlflow_uri, model_name):\n",
    "    \"\"\"\n",
    "    Vérifie la meilleur Run présente, la compare avec le tenant au titre.\n",
    "    Si la meilleur Run est un challenger, définir le nouveau champion puis\n",
    "    crée une nouvelle version du model sur MlFlow et lui decerne l'alias \"champion\".\n",
    "    \"\"\"\n",
    "\n",
    "    # Configuration du client\n",
    "    mlflow_client = MlflowClient(tracking_uri=mlflow_uri)\n",
    "\n",
    "    # Récupérer la dernière version du modèle\n",
    "    model_latest = mlflow_client.search_model_versions(f\"name='{model_name}'\")[0].version\n",
    "\n",
    "    # Récupérer les runs MLFlow dans un dataframe\n",
    "    runs = mlflow.search_runs(experiment_names=[model_name], order_by=[\"start_time ASC\"])\n",
    "    runs = runs[runs['status'] == 'FINISHED'] # Supprimer les runs échoués\n",
    "\n",
    "    # Récupérer l'ID de la Run tenant au titre de champion\n",
    "    run_tenant = mlflow.pyfunc.load_model(f\"models:/\"+model_name+\"@champion\").metadata\n",
    "\n",
    "    # Récupérer l'ID de la run du champion actuel, filtré sur la variable training_score maximal\n",
    "    run_champion = runs.loc[runs['metrics.training_score'].idxmax()]\n",
    "\n",
    "    # Créer une nouvelle version du modèle s'il y a un nouveau champion\n",
    "    if run_champion.run_id == run_tenant.run_id :\n",
    "        print(\"Pas de nouveau champion.\")\n",
    "    else:\n",
    "        print(\"NOUVEAU CHAMPION !\")\n",
    "        print(run_champion['tags.mlflow.runName'])\n",
    "        print(\"---------------------------------\")\n",
    "        print(\"Création d'une nouvelle version\")\n",
    "        model_uri = f\"runs:/\"+run_champion.run_id+\"/model\"\n",
    "        mlflow.register_model(model_uri=model_uri, name=model_name)\n",
    "        model_latest = str(int(model_latest)+1)\n",
    "        print(\"---------------------------------\")\n",
    "        mlflow_client.set_registered_model_alias(model_name, \"champion\", version=model_latest)\n",
    "\n",
    "register_model_champion(mlflow_uri=mlflow_uri, model_name=\"test\")"
   ]
  },
  {
   "cell_type": "code",
   "execution_count": 218,
   "metadata": {},
   "outputs": [
    {
     "name": "stdout",
     "output_type": "stream",
     "text": [
      "Pas de nouveau champion.\n"
     ]
    }
   ],
   "source": [
    "register_model_champion(mlflow_uri=mlflow_uri, model_name=\"test\")"
   ]
  },
  {
   "cell_type": "markdown",
   "metadata": {},
   "source": [
    "# Charger le modèle le plus performant"
   ]
  },
  {
   "cell_type": "code",
   "execution_count": 219,
   "metadata": {},
   "outputs": [
    {
     "data": {
      "text/plain": [
       "mlflow.pyfunc.loaded_model:\n",
       "  artifact_path: model\n",
       "  flavor: mlflow.sklearn\n",
       "  run_id: b60f1e7648c44497bb86d7587514b000"
      ]
     },
     "execution_count": 219,
     "metadata": {},
     "output_type": "execute_result"
    }
   ],
   "source": [
    "champion = mlflow.pyfunc.load_model(f\"models:/test@champion\")\n",
    "\n",
    "champion"
   ]
  },
  {
   "cell_type": "code",
   "execution_count": 220,
   "metadata": {},
   "outputs": [
    {
     "data": {
      "text/plain": [
       "array([ 968.8753053 , 1473.50852144,  900.93331674, 1278.02932773,\n",
       "        980.34849773,  904.58644434, 1191.53962639, 1224.32342824,\n",
       "        914.41162025,  978.96272046])"
      ]
     },
     "metadata": {},
     "output_type": "display_data"
    }
   ],
   "source": [
    "y_pred = champion.predict(X_val)\n",
    "display(y_pred[:10])"
   ]
  }
 ],
 "metadata": {
  "kernelspec": {
   "display_name": ".venv",
   "language": "python",
   "name": "python3"
  },
  "language_info": {
   "codemirror_mode": {
    "name": "ipython",
    "version": 3
   },
   "file_extension": ".py",
   "mimetype": "text/x-python",
   "name": "python",
   "nbconvert_exporter": "python",
   "pygments_lexer": "ipython3",
   "version": "3.12.9"
  }
 },
 "nbformat": 4,
 "nbformat_minor": 2
}
