{
 "cells": [
  {
   "cell_type": "code",
   "execution_count": 32,
   "metadata": {},
   "outputs": [],
   "source": [
    "# Import libs\n",
    "from pymongo import MongoClient\n",
    "from pymongo.errors import PyMongoError\n",
    "import pandas as pd\n",
    "from pandas import json_normalize\n",
    "import json\n",
    "import requests\n",
    "import os"
   ]
  },
  {
   "cell_type": "code",
   "execution_count": 33,
   "metadata": {},
   "outputs": [],
   "source": [
    "ip = \"parivision.heuzef.com\"\n",
    "port = \"27017\"\n",
    "username = os.getenv('MONGO_INITDB_ROOT_USERNAME')\n",
    "password = os.getenv('MONGO_INITDB_ROOT_PASSWORD')\n",
    "\n",
    "uri = \"mongodb://\"+username+\":\"+password+\"@\"+ip+\":\"+port"
   ]
  },
  {
   "cell_type": "code",
   "execution_count": 34,
   "metadata": {},
   "outputs": [
    {
     "name": "stdout",
     "output_type": "stream",
     "text": [
      "Connexion réussie !\n",
      "['admin', 'config', 'local', 'parivision']\n"
     ]
    }
   ],
   "source": [
    "try:\n",
    "    client = MongoClient(uri)\n",
    "    client.admin.command('ping')\n",
    "    print(\"Connexion réussie !\")\n",
    "    print(client.list_database_names())\n",
    "\n",
    "except PyMongoError as e:\n",
    "    print(f\"Erreur d'authentification : {e}\")"
   ]
  },
  {
   "cell_type": "code",
   "execution_count": 35,
   "metadata": {},
   "outputs": [
    {
     "name": "stdout",
     "output_type": "stream",
     "text": [
      "Database(MongoClient(host=['parivision.heuzef.com:27017'], document_class=dict, tz_aware=False, connect=True), 'parivision')\n",
      "Collections :\n",
      "\n",
      "parivision_raw\n"
     ]
    }
   ],
   "source": [
    "# Create DataBase\n",
    "db = client[\"parivision\"]\n",
    "\n",
    "# Create collections\n",
    "parivision_raw = db[\"parivision_raw\"]\n",
    "parivision_processed = db[\"parivision_processed\"]\n",
    "\n",
    "print(db)\n",
    "print(\"Collections :\\n\")\n",
    "for collection in db.list_collection_names():\n",
    "    print(collection)"
   ]
  },
  {
   "cell_type": "code",
   "execution_count": 36,
   "metadata": {},
   "outputs": [
    {
     "data": {
      "text/plain": [
       "{'_id': ObjectId('67c6c78d94e0d383cb997606'),\n",
       " 'Game ID': '0029700427',\n",
       " 'Game Event ID': '389',\n",
       " 'Player ID': '100',\n",
       " 'Player Name': 'Tim Legler',\n",
       " 'Team ID': '1610612764',\n",
       " 'Team Name': 'Washington Wizards',\n",
       " 'Period': '4',\n",
       " 'Minutes Remaining': '11',\n",
       " 'Seconds Remaining': '22',\n",
       " 'Action Type': 'Jump Shot',\n",
       " 'Shot Type': '2PT Field Goal',\n",
       " 'Shot Zone Basic': 'Mid-Range',\n",
       " 'Shot Zone Area': 'Right Side(R)',\n",
       " 'Shot Zone Range': '8-16 ft.',\n",
       " 'Shot Distance': '15',\n",
       " 'X Location': '117',\n",
       " 'Y Location': '109',\n",
       " 'Shot Made Flag': '1',\n",
       " 'Game Date': '19980102',\n",
       " 'Home Team': 'WAS',\n",
       " 'Away Team': 'IND',\n",
       " 'Season Type': 'Regular Season'}"
      ]
     },
     "execution_count": 36,
     "metadata": {},
     "output_type": "execute_result"
    }
   ],
   "source": [
    "parivision_raw.find_one()"
   ]
  },
  {
   "cell_type": "code",
   "execution_count": 37,
   "metadata": {},
   "outputs": [
    {
     "data": {
      "text/plain": [
       "100"
      ]
     },
     "execution_count": 37,
     "metadata": {},
     "output_type": "execute_result"
    }
   ],
   "source": [
    "parivision_raw.count_documents({})"
   ]
  }
 ],
 "metadata": {
  "kernelspec": {
   "display_name": ".venv",
   "language": "python",
   "name": "python3"
  },
  "language_info": {
   "codemirror_mode": {
    "name": "ipython",
    "version": 3
   },
   "file_extension": ".py",
   "mimetype": "text/x-python",
   "name": "python",
   "nbconvert_exporter": "python",
   "pygments_lexer": "ipython3",
   "version": "3.12.9"
  }
 },
 "nbformat": 4,
 "nbformat_minor": 2
}
